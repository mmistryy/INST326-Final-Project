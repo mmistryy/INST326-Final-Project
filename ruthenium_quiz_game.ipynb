{
 "cells": [
  {
   "cell_type": "code",
   "execution_count": 2,
   "metadata": {},
   "outputs": [],
   "source": [
    "# Group: Ruthenium \n",
    "# Maya Mistry, Evan Schneider, Hadiya Mohammed \n",
    "# Final Project\n",
    "\n",
    "# create a trivia/quiz game with three game modes;\n",
    "# one where the game gives the user 3 clues to guess a thing or person\n",
    "# one where the game chooses a random riddle for the user to answer with 3 tries \n",
    "# one basic trivia questions mode"
   ]
  },
  {
   "cell_type": "code",
   "execution_count": 3,
   "metadata": {},
   "outputs": [],
   "source": [
    "# importing json for data retrieval when user plays diff game modes\n",
    "import json\n",
    "\n",
    "def load_quiz_data(file_name):\n",
    "    with open(file_name, 'r') as file:\n",
    "        data = json.load(file)\n",
    "    return data\n",
    "\n",
    "quiz_data = load_quiz_data('ruthenium_quiz_questions.json')"
   ]
  },
  {
   "cell_type": "code",
   "execution_count": 4,
   "metadata": {},
   "outputs": [
    {
     "name": "stdout",
     "output_type": "stream",
     "text": [
      "Guess the thing/person based on three clues:\n",
      "Question: Lion\n",
      "\n",
      "Clues:\n",
      "1. A symbol for freedom.\n",
      "2. A disney movie was created based on it.\n",
      "3. Almost all live in Africa.\n",
      "Wrong... it's actually: Lion\n"
     ]
    }
   ],
   "source": [
    "import random\n",
    "\n",
    "def play_charades(quiz_data):\n",
    "    charades_questions = quiz_data['charades']\n",
    "    question = random.choice(charades_questions)\n",
    "    \n",
    "    print(\"Guess the thing or person based on the charades clues:\")\n",
    "    print(\"Question:\", question['question'])\n",
    "    \n",
    "    print(\"\\nClues:\")\n",
    "    for i, clue in enumerate(question['clues'], 1):\n",
    "        print(f\"{i}. {clue}\")\n",
    "    \n",
    "    guess = input(\"\\nYour guess: \").strip().capitalize()\n",
    "\n",
    "    if guess == question['question']:\n",
    "        print(\"Nice, that's correct\")\n",
    "    else:\n",
    "        print(\"Wrong... it's actually:\", question['question'])\n",
    "\n",
    "play_charades(quiz_data)\n"
   ]
  },
  {
   "cell_type": "code",
   "execution_count": 5,
   "metadata": {},
   "outputs": [
    {
     "name": "stdout",
     "output_type": "stream",
     "text": [
      "Can you solve this riddle?:\n",
      "Question: The more you take, the more you leave behind. What am I?\n",
      "Wrong... it's actually: Footsteps\n"
     ]
    }
   ],
   "source": [
    "import random\n",
    "\n",
    "def play_riddles(quiz_data):\n",
    "    riddles = quiz_data['riddles']\n",
    "    question = random.choice(riddles)\n",
    "    \n",
    "    print(\"Can you solve this riddle?:\")\n",
    "    print(\"Question:\", question['question'])\n",
    "    \n",
    "    guess = input(\"\\nYour guess: \").strip().capitalize()\n",
    "\n",
    "    if guess == question['answer']:\n",
    "        print(\"Nice, that's correct\")\n",
    "    else:\n",
    "        print(\"Wrong... it's actually:\", question['answer'])\n",
    "\n",
    "play_riddles(quiz_data)"
   ]
  },
  {
   "cell_type": "code",
   "execution_count": null,
   "metadata": {},
   "outputs": [],
   "source": []
  }
 ],
 "metadata": {
  "kernelspec": {
   "display_name": "Python 3",
   "language": "python",
   "name": "python3"
  },
  "language_info": {
   "codemirror_mode": {
    "name": "ipython",
    "version": 3
   },
   "file_extension": ".py",
   "mimetype": "text/x-python",
   "name": "python",
   "nbconvert_exporter": "python",
   "pygments_lexer": "ipython3",
   "version": "3.9.7"
  }
 },
 "nbformat": 4,
 "nbformat_minor": 2
}
